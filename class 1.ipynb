{
 "cells": [
  {
   "cell_type": "markdown",
   "id": "fb11086b-ea51-4563-8437-b7bb306fbd89",
   "metadata": {},
   "source": [
    "# Problem 1\n",
    "\n",
    "## Anagram check\n",
    "Given two strings, determine if these are anagrams of each other, considering the following criteria:\n",
    "\n",
    "### Criteria\n",
    "two strings are anagrams of each other if all the criteria below are met:\n",
    "1. They must use the same letters the same amount of times.\n",
    "2. They must be of equal length in terms of letters.\n",
    "\n",
    "\n",
    "```\n",
    "Examples:\n",
    "heart and earth\n",
    "cars and scar\n",
    "rats and star\n",
    "```"
   ]
  },
  {
   "cell_type": "code",
   "execution_count": 1,
   "id": "96256b97-c6d1-42f8-aee2-46c3c965c958",
   "metadata": {},
   "outputs": [],
   "source": [
    "# Poor solutions (resist the urge to come up with a \"celver\" solution)\n",
    "def anagram_check(string1, string2):\n",
    "    return sorted(string1) ==sorted(string2)"
   ]
  },
  {
   "cell_type": "code",
   "execution_count": 2,
   "id": "fccdb778-09e3-4032-ac2a-779d4a5fe8df",
   "metadata": {},
   "outputs": [
    {
     "data": {
      "text/plain": [
       "False"
      ]
     },
     "execution_count": 2,
     "metadata": {},
     "output_type": "execute_result"
    }
   ],
   "source": [
    "anagram_check(\"I am Lord Voldemort\", \"Tom Marvolo Riddle\")"
   ]
  },
  {
   "cell_type": "code",
   "execution_count": 4,
   "id": "98d2c666-bd30-48d8-b4db-7d04563bb035",
   "metadata": {},
   "outputs": [],
   "source": [
    "# Design our solution (assembly)\n",
    "# Define function \"anagram_check\" with parameters str1 and str2:\n",
    "#     str1 = str1 without spaces in lower case\n",
    "#     str2 = str2 without spaces in lower case\n",
    "#     if str1 is not equal length to str2:\n",
    "#         return False\n",
    "#     dict1 = new dictionary\n",
    "#     dict2 = new dictionary\n",
    "#     for each \"number\" in the range from 0 to the length of str1:\n",
    "#         if the character at position \"number\" in str1 is not in dict1:\n",
    "#             add that character as a key to dict1 and set its value to 1\n",
    "#         otherwise:\n",
    "#             add 1 to the value associated with that character\n",
    "#     for each \"number\" in the range from 0 to the length of str2:\n",
    "#         if the character at position \"number\" in str2 is not in dict2:\n",
    "#             add that character as a key to dict2 and set its value to 1\n",
    "#         otherwise:\n",
    "#             add 1 to the value associated with that character\n",
    "#     if dict1 is equal to dict2:\n",
    "#         return True\n",
    "#     otherwise:\n",
    "#         return False\n"
   ]
  },
  {
   "cell_type": "code",
   "execution_count": 4,
   "id": "ba98550f-cadb-41e4-aa86-1281ef533de7",
   "metadata": {},
   "outputs": [],
   "source": [
    "def anagram_check(str1, str2):\n",
    "    \n",
    "    str1 = str1.replace(\" \", \"\").lower()\n",
    "    str2 = str2.replace(\" \", \"\").lower()\n",
    "    \n",
    "    \n",
    "    if len(str1) != len(str2):\n",
    "        return False\n",
    "    \n",
    "    \n",
    "    dict1 = {}\n",
    "    dict2 = {}\n",
    "    \n",
    "    \n",
    "    for char in str1:\n",
    "        if char not in dict1:\n",
    "            dict1[char] = 1\n",
    "        else:\n",
    "            dict1[char] += 1\n",
    "    \n",
    "    \n",
    "    for char in str2:\n",
    "        if char not in dict2:\n",
    "            dict2[char] = 1\n",
    "        else:\n",
    "            dict2[char] += 1\n",
    "    \n",
    "    \n",
    "    if dict1 == dict2:\n",
    "        return True\n",
    "    else:\n",
    "        return False"
   ]
  },
  {
   "cell_type": "code",
   "execution_count": null,
   "id": "abff5147-2087-4a8d-8de3-7be2a87a7695",
   "metadata": {},
   "outputs": [],
   "source": []
  }
 ],
 "metadata": {
  "kernelspec": {
   "display_name": "Python 3 (ipykernel)",
   "language": "python",
   "name": "python3"
  },
  "language_info": {
   "codemirror_mode": {
    "name": "ipython",
    "version": 3
   },
   "file_extension": ".py",
   "mimetype": "text/x-python",
   "name": "python",
   "nbconvert_exporter": "python",
   "pygments_lexer": "ipython3",
   "version": "3.12.3"
  }
 },
 "nbformat": 4,
 "nbformat_minor": 5
}
